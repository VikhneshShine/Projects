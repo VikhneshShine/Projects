{
 "cells": [
  {
   "cell_type": "markdown",
   "id": "79c44e34-133e-4fdb-aa7f-1ab57a72c84d",
   "metadata": {},
   "source": [
    "# Employee Background and Classification"
   ]
  },
  {
   "cell_type": "markdown",
   "id": "7a72ea11-cfb0-4096-bf18-58f0a0dc3045",
   "metadata": {},
   "source": [
    "## Intoduction\n",
    "A company cannot function without its workforce. They are the foundation of any flourishing company, offering the essential knowledge and abilities required to propel an enterprise forward. In this instance, we will examine a dataset that offers a variety of data about workers at a certain business. The goal of this research is to learn more about the diverse backgrounds of personnel within a company by examining their varied points of origin."
   ]
  },
  {
   "cell_type": "markdown",
   "id": "e64c75cc-e740-4b27-95b6-f80ee2d80fca",
   "metadata": {},
   "source": [
    "## About the dataset"
   ]
  },
  {
   "cell_type": "markdown",
   "id": "c8702038-63de-4e2c-a475-8a9aad863b3d",
   "metadata": {},
   "source": [
    "This dataset contains information about employees in a company, including their educational backgrounds, work history, demographics, and employment-related factors. It has been anonymized to protect privacy while still providing valuable insights into the workforce.\n",
    "Columns:\n",
    "- Education_The educational qualifications of employees, including degree, institution, and field of study.\n",
    "- Joining Year_The year each employee joined the company, indicating their length of service.\n",
    "- City_The location or city where each employee is based or works.\n",
    "- Payment Tier_Categorization of employees into different salary tiers.\n",
    "- Age_The age of each employee, providing demographic insights.\n",
    "- Gender_Gender identity of employees, promoting diversity analysis.\n",
    "- Ever Benched_Indicates if an employee has ever been temporarily without assigned work.\n",
    "- Experience in Current Domain_The number of years of experience employees have in their current field."
   ]
  },
  {
   "cell_type": "markdown",
   "id": "ed02fa79-5a63-4129-9f68-0b24ca049fe4",
   "metadata": {},
   "source": [
    "## Loading Libraries"
   ]
  },
  {
   "cell_type": "code",
   "execution_count": 46,
   "id": "a5a35035-e816-4fef-93bf-47aa4b0c503c",
   "metadata": {},
   "outputs": [],
   "source": [
    "library(tidyverse, warn.conflicts = F)"
   ]
  },
  {
   "cell_type": "markdown",
   "id": "b451bf8e-37ad-405c-b935-7dc226ca0775",
   "metadata": {},
   "source": [
    "## Loading the dataset"
   ]
  },
  {
   "cell_type": "code",
   "execution_count": 32,
   "id": "15e21930-f58e-409a-a429-c1ae97e19cc7",
   "metadata": {},
   "outputs": [
    {
     "name": "stderr",
     "output_type": "stream",
     "text": [
      "Parsed with column specification:\n",
      "cols(\n",
      "  Education = col_character(),\n",
      "  JoiningYear = col_double(),\n",
      "  City = col_character(),\n",
      "  PaymentTier = col_double(),\n",
      "  Age = col_double(),\n",
      "  Gender = col_character(),\n",
      "  EverBenched = col_character(),\n",
      "  ExperienceInCurrentDomain = col_double(),\n",
      "  LeaveOrNot = col_double()\n",
      ")\n"
     ]
    }
   ],
   "source": [
    "data <- read_csv('./Employee.csv')"
   ]
  },
  {
   "cell_type": "code",
   "execution_count": 60,
   "id": "eb9fc09e-3559-45cf-a0e7-880b0a2ba77b",
   "metadata": {
    "scrolled": true
   },
   "outputs": [
    {
     "data": {
      "text/html": [
       "<table>\n",
       "<thead><tr><th scope=col>Education</th><th scope=col>JoiningYear</th><th scope=col>City</th><th scope=col>PaymentTier</th><th scope=col>Age</th><th scope=col>Gender</th><th scope=col>EverBenched</th><th scope=col>ExperienceInCurrentDomain</th><th scope=col>LeaveOrNot</th></tr></thead>\n",
       "<tbody>\n",
       "\t<tr><td>Bachelors</td><td>2017     </td><td>Bangalore</td><td>3        </td><td>34       </td><td>Male     </td><td>No       </td><td>0        </td><td>0        </td></tr>\n",
       "\t<tr><td>Bachelors</td><td>2013     </td><td>Pune     </td><td>1        </td><td>28       </td><td>Female   </td><td>No       </td><td>3        </td><td>1        </td></tr>\n",
       "\t<tr><td>Bachelors</td><td>2014     </td><td>New Delhi</td><td>3        </td><td>38       </td><td>Female   </td><td>No       </td><td>2        </td><td>0        </td></tr>\n",
       "\t<tr><td>Masters  </td><td>2016     </td><td>Bangalore</td><td>3        </td><td>27       </td><td>Male     </td><td>No       </td><td>5        </td><td>1        </td></tr>\n",
       "\t<tr><td>Masters  </td><td>2017     </td><td>Pune     </td><td>3        </td><td>24       </td><td>Male     </td><td>Yes      </td><td>2        </td><td>1        </td></tr>\n",
       "\t<tr><td>Bachelors</td><td>2016     </td><td>Bangalore</td><td>3        </td><td>22       </td><td>Male     </td><td>No       </td><td>0        </td><td>0        </td></tr>\n",
       "\t<tr><td>Bachelors</td><td>2015     </td><td>New Delhi</td><td>3        </td><td>38       </td><td>Male     </td><td>No       </td><td>0        </td><td>0        </td></tr>\n",
       "\t<tr><td>Bachelors</td><td>2016     </td><td>Bangalore</td><td>3        </td><td>34       </td><td>Female   </td><td>No       </td><td>2        </td><td>1        </td></tr>\n",
       "\t<tr><td>Bachelors</td><td>2016     </td><td>Pune     </td><td>3        </td><td>23       </td><td>Male     </td><td>No       </td><td>1        </td><td>0        </td></tr>\n",
       "\t<tr><td>Masters  </td><td>2017     </td><td>New Delhi</td><td>2        </td><td>37       </td><td>Male     </td><td>No       </td><td>2        </td><td>0        </td></tr>\n",
       "\t<tr><td>Masters  </td><td>2012     </td><td>Bangalore</td><td>3        </td><td>27       </td><td>Male     </td><td>No       </td><td>5        </td><td>1        </td></tr>\n",
       "\t<tr><td>Bachelors</td><td>2016     </td><td>Pune     </td><td>3        </td><td>34       </td><td>Male     </td><td>No       </td><td>3        </td><td>0        </td></tr>\n",
       "\t<tr><td>Bachelors</td><td>2018     </td><td>Pune     </td><td>3        </td><td>32       </td><td>Male     </td><td>Yes      </td><td>5        </td><td>1        </td></tr>\n",
       "\t<tr><td>Bachelors</td><td>2016     </td><td>Bangalore</td><td>3        </td><td>39       </td><td>Male     </td><td>No       </td><td>2        </td><td>0        </td></tr>\n",
       "\t<tr><td>Bachelors</td><td>2012     </td><td>Bangalore</td><td>3        </td><td>37       </td><td>Male     </td><td>No       </td><td>4        </td><td>0        </td></tr>\n",
       "\t<tr><td>Bachelors</td><td>2017     </td><td>Bangalore</td><td>1        </td><td>29       </td><td>Male     </td><td>No       </td><td>3        </td><td>0        </td></tr>\n",
       "\t<tr><td>Bachelors</td><td>2014     </td><td>Bangalore</td><td>3        </td><td>34       </td><td>Female   </td><td>No       </td><td>2        </td><td>0        </td></tr>\n",
       "\t<tr><td>Bachelors</td><td>2014     </td><td>Pune     </td><td>3        </td><td>34       </td><td>Male     </td><td>No       </td><td>4        </td><td>0        </td></tr>\n",
       "\t<tr><td>Bachelors</td><td>2015     </td><td>Pune     </td><td>2        </td><td>30       </td><td>Female   </td><td>No       </td><td>0        </td><td>1        </td></tr>\n",
       "\t<tr><td>Bachelors</td><td>2016     </td><td>New Delhi</td><td>2        </td><td>22       </td><td>Female   </td><td>No       </td><td>0        </td><td>1        </td></tr>\n",
       "\t<tr><td>Bachelors</td><td>2012     </td><td>Bangalore</td><td>3        </td><td>37       </td><td>Male     </td><td>No       </td><td>0        </td><td>0        </td></tr>\n",
       "\t<tr><td>Masters  </td><td>2017     </td><td>New Delhi</td><td>2        </td><td>28       </td><td>Male     </td><td>No       </td><td>4        </td><td>0        </td></tr>\n",
       "\t<tr><td>Bachelors</td><td>2017     </td><td>New Delhi</td><td>2        </td><td>36       </td><td>Male     </td><td>No       </td><td>3        </td><td>0        </td></tr>\n",
       "\t<tr><td>Bachelors</td><td>2015     </td><td>Bangalore</td><td>3        </td><td>27       </td><td>Male     </td><td>Yes      </td><td>5        </td><td>0        </td></tr>\n",
       "\t<tr><td>Bachelors</td><td>2017     </td><td>Bangalore</td><td>3        </td><td>29       </td><td>Male     </td><td>No       </td><td>4        </td><td>0        </td></tr>\n",
       "\t<tr><td>Bachelors</td><td>2013     </td><td>Bangalore</td><td>3        </td><td>22       </td><td>Female   </td><td>Yes      </td><td>0        </td><td>0        </td></tr>\n",
       "\t<tr><td>Bachelors</td><td>2016     </td><td>Bangalore</td><td>3        </td><td>37       </td><td>Male     </td><td>No       </td><td>2        </td><td>0        </td></tr>\n",
       "\t<tr><td>Bachelors</td><td>2015     </td><td>Bangalore</td><td>3        </td><td>23       </td><td>Male     </td><td>No       </td><td>1        </td><td>0        </td></tr>\n",
       "\t<tr><td>Bachelors</td><td>2013     </td><td>Pune     </td><td>2        </td><td>31       </td><td>Female   </td><td>No       </td><td>2        </td><td>1        </td></tr>\n",
       "\t<tr><td>Masters  </td><td>2017     </td><td>New Delhi</td><td>2        </td><td>30       </td><td>Female   </td><td>No       </td><td>2        </td><td>0        </td></tr>\n",
       "\t<tr><td>...</td><td>...</td><td>...</td><td>...</td><td>...</td><td>...</td><td>...</td><td>...</td><td>...</td></tr>\n",
       "\t<tr><td>PHD      </td><td>2013     </td><td>Bangalore</td><td>3        </td><td>24       </td><td>Male     </td><td>No       </td><td>2        </td><td>0        </td></tr>\n",
       "\t<tr><td>Bachelors</td><td>2017     </td><td>Bangalore</td><td>3        </td><td>38       </td><td>Male     </td><td>No       </td><td>3        </td><td>0        </td></tr>\n",
       "\t<tr><td>Bachelors</td><td>2013     </td><td>Pune     </td><td>3        </td><td>37       </td><td>Male     </td><td>No       </td><td>3        </td><td>0        </td></tr>\n",
       "\t<tr><td>Bachelors</td><td>2016     </td><td>Bangalore</td><td>3        </td><td>22       </td><td>Male     </td><td>No       </td><td>0        </td><td>0        </td></tr>\n",
       "\t<tr><td>PHD      </td><td>2012     </td><td>Bangalore</td><td>3        </td><td>30       </td><td>Female   </td><td>No       </td><td>4        </td><td>0        </td></tr>\n",
       "\t<tr><td>Bachelors</td><td>2013     </td><td>Bangalore</td><td>3        </td><td>39       </td><td>Female   </td><td>No       </td><td>5        </td><td>0        </td></tr>\n",
       "\t<tr><td>Bachelors</td><td>2017     </td><td>Bangalore</td><td>2        </td><td>35       </td><td>Male     </td><td>No       </td><td>0        </td><td>0        </td></tr>\n",
       "\t<tr><td>Bachelors</td><td>2012     </td><td>Pune     </td><td>3        </td><td>25       </td><td>Female   </td><td>No       </td><td>3        </td><td>1        </td></tr>\n",
       "\t<tr><td>Bachelors</td><td>2018     </td><td>Bangalore</td><td>3        </td><td>32       </td><td>Male     </td><td>Yes      </td><td>1        </td><td>1        </td></tr>\n",
       "\t<tr><td>Bachelors</td><td>2018     </td><td>Bangalore</td><td>3        </td><td>31       </td><td>Female   </td><td>No       </td><td>2        </td><td>1        </td></tr>\n",
       "\t<tr><td>Bachelors</td><td>2016     </td><td>Bangalore</td><td>3        </td><td>37       </td><td>Male     </td><td>No       </td><td>2        </td><td>0        </td></tr>\n",
       "\t<tr><td>Bachelors</td><td>2016     </td><td>New Delhi</td><td>1        </td><td>38       </td><td>Female   </td><td>No       </td><td>2        </td><td>1        </td></tr>\n",
       "\t<tr><td>Bachelors</td><td>2014     </td><td>Bangalore</td><td>3        </td><td>22       </td><td>Female   </td><td>No       </td><td>0        </td><td>0        </td></tr>\n",
       "\t<tr><td>Masters  </td><td>2014     </td><td>New Delhi</td><td>3        </td><td>37       </td><td>Female   </td><td>No       </td><td>0        </td><td>1        </td></tr>\n",
       "\t<tr><td>Bachelors</td><td>2018     </td><td>Bangalore</td><td>3        </td><td>32       </td><td>Male     </td><td>Yes      </td><td>2        </td><td>1        </td></tr>\n",
       "\t<tr><td>Bachelors</td><td>2013     </td><td>Bangalore</td><td>3        </td><td>26       </td><td>Male     </td><td>No       </td><td>4        </td><td>0        </td></tr>\n",
       "\t<tr><td>Bachelors</td><td>2017     </td><td>Bangalore</td><td>3        </td><td>28       </td><td>Male     </td><td>No       </td><td>0        </td><td>1        </td></tr>\n",
       "\t<tr><td>Bachelors</td><td>2015     </td><td>Bangalore</td><td>3        </td><td>35       </td><td>Male     </td><td>No       </td><td>0        </td><td>0        </td></tr>\n",
       "\t<tr><td>Bachelors</td><td>2016     </td><td>Bangalore</td><td>1        </td><td>33       </td><td>Female   </td><td>No       </td><td>0        </td><td>1        </td></tr>\n",
       "\t<tr><td>Bachelors</td><td>2012     </td><td>Bangalore</td><td>3        </td><td>36       </td><td>Female   </td><td>No       </td><td>4        </td><td>0        </td></tr>\n",
       "\t<tr><td>Bachelors</td><td>2013     </td><td>Bangalore</td><td>3        </td><td>31       </td><td>Female   </td><td>No       </td><td>5        </td><td>0        </td></tr>\n",
       "\t<tr><td>Bachelors</td><td>2015     </td><td>Pune     </td><td>3        </td><td>32       </td><td>Female   </td><td>Yes      </td><td>1        </td><td>1        </td></tr>\n",
       "\t<tr><td>Masters  </td><td>2017     </td><td>Pune     </td><td>2        </td><td>31       </td><td>Female   </td><td>No       </td><td>2        </td><td>0        </td></tr>\n",
       "\t<tr><td>Bachelors</td><td>2013     </td><td>Bangalore</td><td>3        </td><td>25       </td><td>Female   </td><td>No       </td><td>3        </td><td>0        </td></tr>\n",
       "\t<tr><td>Bachelors</td><td>2016     </td><td>Pune     </td><td>3        </td><td>30       </td><td>Male     </td><td>No       </td><td>2        </td><td>0        </td></tr>\n",
       "\t<tr><td>Bachelors</td><td>2013     </td><td>Bangalore</td><td>3        </td><td>26       </td><td>Female   </td><td>No       </td><td>4        </td><td>0        </td></tr>\n",
       "\t<tr><td>Masters  </td><td>2013     </td><td>Pune     </td><td>2        </td><td>37       </td><td>Male     </td><td>No       </td><td>2        </td><td>1        </td></tr>\n",
       "\t<tr><td>Masters  </td><td>2018     </td><td>New Delhi</td><td>3        </td><td>27       </td><td>Male     </td><td>No       </td><td>5        </td><td>1        </td></tr>\n",
       "\t<tr><td>Bachelors</td><td>2012     </td><td>Bangalore</td><td>3        </td><td>30       </td><td>Male     </td><td>Yes      </td><td>2        </td><td>0        </td></tr>\n",
       "\t<tr><td>Bachelors</td><td>2015     </td><td>Bangalore</td><td>3        </td><td>33       </td><td>Male     </td><td>Yes      </td><td>4        </td><td>0        </td></tr>\n",
       "</tbody>\n",
       "</table>\n"
      ],
      "text/latex": [
       "\\begin{tabular}{r|lllllllll}\n",
       " Education & JoiningYear & City & PaymentTier & Age & Gender & EverBenched & ExperienceInCurrentDomain & LeaveOrNot\\\\\n",
       "\\hline\n",
       "\t Bachelors & 2017      & Bangalore & 3         & 34        & Male      & No        & 0         & 0        \\\\\n",
       "\t Bachelors & 2013      & Pune      & 1         & 28        & Female    & No        & 3         & 1        \\\\\n",
       "\t Bachelors & 2014      & New Delhi & 3         & 38        & Female    & No        & 2         & 0        \\\\\n",
       "\t Masters   & 2016      & Bangalore & 3         & 27        & Male      & No        & 5         & 1        \\\\\n",
       "\t Masters   & 2017      & Pune      & 3         & 24        & Male      & Yes       & 2         & 1        \\\\\n",
       "\t Bachelors & 2016      & Bangalore & 3         & 22        & Male      & No        & 0         & 0        \\\\\n",
       "\t Bachelors & 2015      & New Delhi & 3         & 38        & Male      & No        & 0         & 0        \\\\\n",
       "\t Bachelors & 2016      & Bangalore & 3         & 34        & Female    & No        & 2         & 1        \\\\\n",
       "\t Bachelors & 2016      & Pune      & 3         & 23        & Male      & No        & 1         & 0        \\\\\n",
       "\t Masters   & 2017      & New Delhi & 2         & 37        & Male      & No        & 2         & 0        \\\\\n",
       "\t Masters   & 2012      & Bangalore & 3         & 27        & Male      & No        & 5         & 1        \\\\\n",
       "\t Bachelors & 2016      & Pune      & 3         & 34        & Male      & No        & 3         & 0        \\\\\n",
       "\t Bachelors & 2018      & Pune      & 3         & 32        & Male      & Yes       & 5         & 1        \\\\\n",
       "\t Bachelors & 2016      & Bangalore & 3         & 39        & Male      & No        & 2         & 0        \\\\\n",
       "\t Bachelors & 2012      & Bangalore & 3         & 37        & Male      & No        & 4         & 0        \\\\\n",
       "\t Bachelors & 2017      & Bangalore & 1         & 29        & Male      & No        & 3         & 0        \\\\\n",
       "\t Bachelors & 2014      & Bangalore & 3         & 34        & Female    & No        & 2         & 0        \\\\\n",
       "\t Bachelors & 2014      & Pune      & 3         & 34        & Male      & No        & 4         & 0        \\\\\n",
       "\t Bachelors & 2015      & Pune      & 2         & 30        & Female    & No        & 0         & 1        \\\\\n",
       "\t Bachelors & 2016      & New Delhi & 2         & 22        & Female    & No        & 0         & 1        \\\\\n",
       "\t Bachelors & 2012      & Bangalore & 3         & 37        & Male      & No        & 0         & 0        \\\\\n",
       "\t Masters   & 2017      & New Delhi & 2         & 28        & Male      & No        & 4         & 0        \\\\\n",
       "\t Bachelors & 2017      & New Delhi & 2         & 36        & Male      & No        & 3         & 0        \\\\\n",
       "\t Bachelors & 2015      & Bangalore & 3         & 27        & Male      & Yes       & 5         & 0        \\\\\n",
       "\t Bachelors & 2017      & Bangalore & 3         & 29        & Male      & No        & 4         & 0        \\\\\n",
       "\t Bachelors & 2013      & Bangalore & 3         & 22        & Female    & Yes       & 0         & 0        \\\\\n",
       "\t Bachelors & 2016      & Bangalore & 3         & 37        & Male      & No        & 2         & 0        \\\\\n",
       "\t Bachelors & 2015      & Bangalore & 3         & 23        & Male      & No        & 1         & 0        \\\\\n",
       "\t Bachelors & 2013      & Pune      & 2         & 31        & Female    & No        & 2         & 1        \\\\\n",
       "\t Masters   & 2017      & New Delhi & 2         & 30        & Female    & No        & 2         & 0        \\\\\n",
       "\t ... & ... & ... & ... & ... & ... & ... & ... & ...\\\\\n",
       "\t PHD       & 2013      & Bangalore & 3         & 24        & Male      & No        & 2         & 0        \\\\\n",
       "\t Bachelors & 2017      & Bangalore & 3         & 38        & Male      & No        & 3         & 0        \\\\\n",
       "\t Bachelors & 2013      & Pune      & 3         & 37        & Male      & No        & 3         & 0        \\\\\n",
       "\t Bachelors & 2016      & Bangalore & 3         & 22        & Male      & No        & 0         & 0        \\\\\n",
       "\t PHD       & 2012      & Bangalore & 3         & 30        & Female    & No        & 4         & 0        \\\\\n",
       "\t Bachelors & 2013      & Bangalore & 3         & 39        & Female    & No        & 5         & 0        \\\\\n",
       "\t Bachelors & 2017      & Bangalore & 2         & 35        & Male      & No        & 0         & 0        \\\\\n",
       "\t Bachelors & 2012      & Pune      & 3         & 25        & Female    & No        & 3         & 1        \\\\\n",
       "\t Bachelors & 2018      & Bangalore & 3         & 32        & Male      & Yes       & 1         & 1        \\\\\n",
       "\t Bachelors & 2018      & Bangalore & 3         & 31        & Female    & No        & 2         & 1        \\\\\n",
       "\t Bachelors & 2016      & Bangalore & 3         & 37        & Male      & No        & 2         & 0        \\\\\n",
       "\t Bachelors & 2016      & New Delhi & 1         & 38        & Female    & No        & 2         & 1        \\\\\n",
       "\t Bachelors & 2014      & Bangalore & 3         & 22        & Female    & No        & 0         & 0        \\\\\n",
       "\t Masters   & 2014      & New Delhi & 3         & 37        & Female    & No        & 0         & 1        \\\\\n",
       "\t Bachelors & 2018      & Bangalore & 3         & 32        & Male      & Yes       & 2         & 1        \\\\\n",
       "\t Bachelors & 2013      & Bangalore & 3         & 26        & Male      & No        & 4         & 0        \\\\\n",
       "\t Bachelors & 2017      & Bangalore & 3         & 28        & Male      & No        & 0         & 1        \\\\\n",
       "\t Bachelors & 2015      & Bangalore & 3         & 35        & Male      & No        & 0         & 0        \\\\\n",
       "\t Bachelors & 2016      & Bangalore & 1         & 33        & Female    & No        & 0         & 1        \\\\\n",
       "\t Bachelors & 2012      & Bangalore & 3         & 36        & Female    & No        & 4         & 0        \\\\\n",
       "\t Bachelors & 2013      & Bangalore & 3         & 31        & Female    & No        & 5         & 0        \\\\\n",
       "\t Bachelors & 2015      & Pune      & 3         & 32        & Female    & Yes       & 1         & 1        \\\\\n",
       "\t Masters   & 2017      & Pune      & 2         & 31        & Female    & No        & 2         & 0        \\\\\n",
       "\t Bachelors & 2013      & Bangalore & 3         & 25        & Female    & No        & 3         & 0        \\\\\n",
       "\t Bachelors & 2016      & Pune      & 3         & 30        & Male      & No        & 2         & 0        \\\\\n",
       "\t Bachelors & 2013      & Bangalore & 3         & 26        & Female    & No        & 4         & 0        \\\\\n",
       "\t Masters   & 2013      & Pune      & 2         & 37        & Male      & No        & 2         & 1        \\\\\n",
       "\t Masters   & 2018      & New Delhi & 3         & 27        & Male      & No        & 5         & 1        \\\\\n",
       "\t Bachelors & 2012      & Bangalore & 3         & 30        & Male      & Yes       & 2         & 0        \\\\\n",
       "\t Bachelors & 2015      & Bangalore & 3         & 33        & Male      & Yes       & 4         & 0        \\\\\n",
       "\\end{tabular}\n"
      ],
      "text/markdown": [
       "\n",
       "| Education | JoiningYear | City | PaymentTier | Age | Gender | EverBenched | ExperienceInCurrentDomain | LeaveOrNot |\n",
       "|---|---|---|---|---|---|---|---|---|\n",
       "| Bachelors | 2017      | Bangalore | 3         | 34        | Male      | No        | 0         | 0         |\n",
       "| Bachelors | 2013      | Pune      | 1         | 28        | Female    | No        | 3         | 1         |\n",
       "| Bachelors | 2014      | New Delhi | 3         | 38        | Female    | No        | 2         | 0         |\n",
       "| Masters   | 2016      | Bangalore | 3         | 27        | Male      | No        | 5         | 1         |\n",
       "| Masters   | 2017      | Pune      | 3         | 24        | Male      | Yes       | 2         | 1         |\n",
       "| Bachelors | 2016      | Bangalore | 3         | 22        | Male      | No        | 0         | 0         |\n",
       "| Bachelors | 2015      | New Delhi | 3         | 38        | Male      | No        | 0         | 0         |\n",
       "| Bachelors | 2016      | Bangalore | 3         | 34        | Female    | No        | 2         | 1         |\n",
       "| Bachelors | 2016      | Pune      | 3         | 23        | Male      | No        | 1         | 0         |\n",
       "| Masters   | 2017      | New Delhi | 2         | 37        | Male      | No        | 2         | 0         |\n",
       "| Masters   | 2012      | Bangalore | 3         | 27        | Male      | No        | 5         | 1         |\n",
       "| Bachelors | 2016      | Pune      | 3         | 34        | Male      | No        | 3         | 0         |\n",
       "| Bachelors | 2018      | Pune      | 3         | 32        | Male      | Yes       | 5         | 1         |\n",
       "| Bachelors | 2016      | Bangalore | 3         | 39        | Male      | No        | 2         | 0         |\n",
       "| Bachelors | 2012      | Bangalore | 3         | 37        | Male      | No        | 4         | 0         |\n",
       "| Bachelors | 2017      | Bangalore | 1         | 29        | Male      | No        | 3         | 0         |\n",
       "| Bachelors | 2014      | Bangalore | 3         | 34        | Female    | No        | 2         | 0         |\n",
       "| Bachelors | 2014      | Pune      | 3         | 34        | Male      | No        | 4         | 0         |\n",
       "| Bachelors | 2015      | Pune      | 2         | 30        | Female    | No        | 0         | 1         |\n",
       "| Bachelors | 2016      | New Delhi | 2         | 22        | Female    | No        | 0         | 1         |\n",
       "| Bachelors | 2012      | Bangalore | 3         | 37        | Male      | No        | 0         | 0         |\n",
       "| Masters   | 2017      | New Delhi | 2         | 28        | Male      | No        | 4         | 0         |\n",
       "| Bachelors | 2017      | New Delhi | 2         | 36        | Male      | No        | 3         | 0         |\n",
       "| Bachelors | 2015      | Bangalore | 3         | 27        | Male      | Yes       | 5         | 0         |\n",
       "| Bachelors | 2017      | Bangalore | 3         | 29        | Male      | No        | 4         | 0         |\n",
       "| Bachelors | 2013      | Bangalore | 3         | 22        | Female    | Yes       | 0         | 0         |\n",
       "| Bachelors | 2016      | Bangalore | 3         | 37        | Male      | No        | 2         | 0         |\n",
       "| Bachelors | 2015      | Bangalore | 3         | 23        | Male      | No        | 1         | 0         |\n",
       "| Bachelors | 2013      | Pune      | 2         | 31        | Female    | No        | 2         | 1         |\n",
       "| Masters   | 2017      | New Delhi | 2         | 30        | Female    | No        | 2         | 0         |\n",
       "| ... | ... | ... | ... | ... | ... | ... | ... | ... |\n",
       "| PHD       | 2013      | Bangalore | 3         | 24        | Male      | No        | 2         | 0         |\n",
       "| Bachelors | 2017      | Bangalore | 3         | 38        | Male      | No        | 3         | 0         |\n",
       "| Bachelors | 2013      | Pune      | 3         | 37        | Male      | No        | 3         | 0         |\n",
       "| Bachelors | 2016      | Bangalore | 3         | 22        | Male      | No        | 0         | 0         |\n",
       "| PHD       | 2012      | Bangalore | 3         | 30        | Female    | No        | 4         | 0         |\n",
       "| Bachelors | 2013      | Bangalore | 3         | 39        | Female    | No        | 5         | 0         |\n",
       "| Bachelors | 2017      | Bangalore | 2         | 35        | Male      | No        | 0         | 0         |\n",
       "| Bachelors | 2012      | Pune      | 3         | 25        | Female    | No        | 3         | 1         |\n",
       "| Bachelors | 2018      | Bangalore | 3         | 32        | Male      | Yes       | 1         | 1         |\n",
       "| Bachelors | 2018      | Bangalore | 3         | 31        | Female    | No        | 2         | 1         |\n",
       "| Bachelors | 2016      | Bangalore | 3         | 37        | Male      | No        | 2         | 0         |\n",
       "| Bachelors | 2016      | New Delhi | 1         | 38        | Female    | No        | 2         | 1         |\n",
       "| Bachelors | 2014      | Bangalore | 3         | 22        | Female    | No        | 0         | 0         |\n",
       "| Masters   | 2014      | New Delhi | 3         | 37        | Female    | No        | 0         | 1         |\n",
       "| Bachelors | 2018      | Bangalore | 3         | 32        | Male      | Yes       | 2         | 1         |\n",
       "| Bachelors | 2013      | Bangalore | 3         | 26        | Male      | No        | 4         | 0         |\n",
       "| Bachelors | 2017      | Bangalore | 3         | 28        | Male      | No        | 0         | 1         |\n",
       "| Bachelors | 2015      | Bangalore | 3         | 35        | Male      | No        | 0         | 0         |\n",
       "| Bachelors | 2016      | Bangalore | 1         | 33        | Female    | No        | 0         | 1         |\n",
       "| Bachelors | 2012      | Bangalore | 3         | 36        | Female    | No        | 4         | 0         |\n",
       "| Bachelors | 2013      | Bangalore | 3         | 31        | Female    | No        | 5         | 0         |\n",
       "| Bachelors | 2015      | Pune      | 3         | 32        | Female    | Yes       | 1         | 1         |\n",
       "| Masters   | 2017      | Pune      | 2         | 31        | Female    | No        | 2         | 0         |\n",
       "| Bachelors | 2013      | Bangalore | 3         | 25        | Female    | No        | 3         | 0         |\n",
       "| Bachelors | 2016      | Pune      | 3         | 30        | Male      | No        | 2         | 0         |\n",
       "| Bachelors | 2013      | Bangalore | 3         | 26        | Female    | No        | 4         | 0         |\n",
       "| Masters   | 2013      | Pune      | 2         | 37        | Male      | No        | 2         | 1         |\n",
       "| Masters   | 2018      | New Delhi | 3         | 27        | Male      | No        | 5         | 1         |\n",
       "| Bachelors | 2012      | Bangalore | 3         | 30        | Male      | Yes       | 2         | 0         |\n",
       "| Bachelors | 2015      | Bangalore | 3         | 33        | Male      | Yes       | 4         | 0         |\n",
       "\n"
      ],
      "text/plain": [
       "     Education JoiningYear City      PaymentTier Age Gender EverBenched\n",
       "1    Bachelors 2017        Bangalore 3           34  Male   No         \n",
       "2    Bachelors 2013        Pune      1           28  Female No         \n",
       "3    Bachelors 2014        New Delhi 3           38  Female No         \n",
       "4    Masters   2016        Bangalore 3           27  Male   No         \n",
       "5    Masters   2017        Pune      3           24  Male   Yes        \n",
       "6    Bachelors 2016        Bangalore 3           22  Male   No         \n",
       "7    Bachelors 2015        New Delhi 3           38  Male   No         \n",
       "8    Bachelors 2016        Bangalore 3           34  Female No         \n",
       "9    Bachelors 2016        Pune      3           23  Male   No         \n",
       "10   Masters   2017        New Delhi 2           37  Male   No         \n",
       "11   Masters   2012        Bangalore 3           27  Male   No         \n",
       "12   Bachelors 2016        Pune      3           34  Male   No         \n",
       "13   Bachelors 2018        Pune      3           32  Male   Yes        \n",
       "14   Bachelors 2016        Bangalore 3           39  Male   No         \n",
       "15   Bachelors 2012        Bangalore 3           37  Male   No         \n",
       "16   Bachelors 2017        Bangalore 1           29  Male   No         \n",
       "17   Bachelors 2014        Bangalore 3           34  Female No         \n",
       "18   Bachelors 2014        Pune      3           34  Male   No         \n",
       "19   Bachelors 2015        Pune      2           30  Female No         \n",
       "20   Bachelors 2016        New Delhi 2           22  Female No         \n",
       "21   Bachelors 2012        Bangalore 3           37  Male   No         \n",
       "22   Masters   2017        New Delhi 2           28  Male   No         \n",
       "23   Bachelors 2017        New Delhi 2           36  Male   No         \n",
       "24   Bachelors 2015        Bangalore 3           27  Male   Yes        \n",
       "25   Bachelors 2017        Bangalore 3           29  Male   No         \n",
       "26   Bachelors 2013        Bangalore 3           22  Female Yes        \n",
       "27   Bachelors 2016        Bangalore 3           37  Male   No         \n",
       "28   Bachelors 2015        Bangalore 3           23  Male   No         \n",
       "29   Bachelors 2013        Pune      2           31  Female No         \n",
       "30   Masters   2017        New Delhi 2           30  Female No         \n",
       "...  ...       ...         ...       ...         ... ...    ...        \n",
       "4624 PHD       2013        Bangalore 3           24  Male   No         \n",
       "4625 Bachelors 2017        Bangalore 3           38  Male   No         \n",
       "4626 Bachelors 2013        Pune      3           37  Male   No         \n",
       "4627 Bachelors 2016        Bangalore 3           22  Male   No         \n",
       "4628 PHD       2012        Bangalore 3           30  Female No         \n",
       "4629 Bachelors 2013        Bangalore 3           39  Female No         \n",
       "4630 Bachelors 2017        Bangalore 2           35  Male   No         \n",
       "4631 Bachelors 2012        Pune      3           25  Female No         \n",
       "4632 Bachelors 2018        Bangalore 3           32  Male   Yes        \n",
       "4633 Bachelors 2018        Bangalore 3           31  Female No         \n",
       "4634 Bachelors 2016        Bangalore 3           37  Male   No         \n",
       "4635 Bachelors 2016        New Delhi 1           38  Female No         \n",
       "4636 Bachelors 2014        Bangalore 3           22  Female No         \n",
       "4637 Masters   2014        New Delhi 3           37  Female No         \n",
       "4638 Bachelors 2018        Bangalore 3           32  Male   Yes        \n",
       "4639 Bachelors 2013        Bangalore 3           26  Male   No         \n",
       "4640 Bachelors 2017        Bangalore 3           28  Male   No         \n",
       "4641 Bachelors 2015        Bangalore 3           35  Male   No         \n",
       "4642 Bachelors 2016        Bangalore 1           33  Female No         \n",
       "4643 Bachelors 2012        Bangalore 3           36  Female No         \n",
       "4644 Bachelors 2013        Bangalore 3           31  Female No         \n",
       "4645 Bachelors 2015        Pune      3           32  Female Yes        \n",
       "4646 Masters   2017        Pune      2           31  Female No         \n",
       "4647 Bachelors 2013        Bangalore 3           25  Female No         \n",
       "4648 Bachelors 2016        Pune      3           30  Male   No         \n",
       "4649 Bachelors 2013        Bangalore 3           26  Female No         \n",
       "4650 Masters   2013        Pune      2           37  Male   No         \n",
       "4651 Masters   2018        New Delhi 3           27  Male   No         \n",
       "4652 Bachelors 2012        Bangalore 3           30  Male   Yes        \n",
       "4653 Bachelors 2015        Bangalore 3           33  Male   Yes        \n",
       "     ExperienceInCurrentDomain LeaveOrNot\n",
       "1    0                         0         \n",
       "2    3                         1         \n",
       "3    2                         0         \n",
       "4    5                         1         \n",
       "5    2                         1         \n",
       "6    0                         0         \n",
       "7    0                         0         \n",
       "8    2                         1         \n",
       "9    1                         0         \n",
       "10   2                         0         \n",
       "11   5                         1         \n",
       "12   3                         0         \n",
       "13   5                         1         \n",
       "14   2                         0         \n",
       "15   4                         0         \n",
       "16   3                         0         \n",
       "17   2                         0         \n",
       "18   4                         0         \n",
       "19   0                         1         \n",
       "20   0                         1         \n",
       "21   0                         0         \n",
       "22   4                         0         \n",
       "23   3                         0         \n",
       "24   5                         0         \n",
       "25   4                         0         \n",
       "26   0                         0         \n",
       "27   2                         0         \n",
       "28   1                         0         \n",
       "29   2                         1         \n",
       "30   2                         0         \n",
       "...  ...                       ...       \n",
       "4624 2                         0         \n",
       "4625 3                         0         \n",
       "4626 3                         0         \n",
       "4627 0                         0         \n",
       "4628 4                         0         \n",
       "4629 5                         0         \n",
       "4630 0                         0         \n",
       "4631 3                         1         \n",
       "4632 1                         1         \n",
       "4633 2                         1         \n",
       "4634 2                         0         \n",
       "4635 2                         1         \n",
       "4636 0                         0         \n",
       "4637 0                         1         \n",
       "4638 2                         1         \n",
       "4639 4                         0         \n",
       "4640 0                         1         \n",
       "4641 0                         0         \n",
       "4642 0                         1         \n",
       "4643 4                         0         \n",
       "4644 5                         0         \n",
       "4645 1                         1         \n",
       "4646 2                         0         \n",
       "4647 3                         0         \n",
       "4648 2                         0         \n",
       "4649 4                         0         \n",
       "4650 2                         1         \n",
       "4651 5                         1         \n",
       "4652 2                         0         \n",
       "4653 4                         0         "
      ]
     },
     "metadata": {},
     "output_type": "display_data"
    }
   ],
   "source": [
    "data"
   ]
  },
  {
   "cell_type": "markdown",
   "id": "a7a26737-e3c6-417d-af82-e5e2d4ae3043",
   "metadata": {},
   "source": [
    "### Changing the dataframe into a tibble object"
   ]
  },
  {
   "cell_type": "code",
   "execution_count": 42,
   "id": "5898aa5a-d0da-4774-821d-9b6f604d12bd",
   "metadata": {},
   "outputs": [],
   "source": [
    "data <- as_tibble(data)"
   ]
  },
  {
   "cell_type": "code",
   "execution_count": 58,
   "id": "e4fe4ae3-153d-47fa-8ffa-a2bb2957819b",
   "metadata": {},
   "outputs": [
    {
     "data": {
      "text/html": [
       "<table>\n",
       "<thead><tr><th scope=col>Education</th><th scope=col>JoiningYear</th><th scope=col>City</th><th scope=col>PaymentTier</th><th scope=col>Age</th><th scope=col>Gender</th><th scope=col>EverBenched</th><th scope=col>ExperienceInCurrentDomain</th><th scope=col>LeaveOrNot</th></tr></thead>\n",
       "<tbody>\n",
       "\t<tr><td>Bachelors</td><td>2017     </td><td>Bangalore</td><td>3        </td><td>34       </td><td>Male     </td><td>No       </td><td>0        </td><td>0        </td></tr>\n",
       "\t<tr><td>Bachelors</td><td>2013     </td><td>Pune     </td><td>1        </td><td>28       </td><td>Female   </td><td>No       </td><td>3        </td><td>1        </td></tr>\n",
       "\t<tr><td>Bachelors</td><td>2014     </td><td>New Delhi</td><td>3        </td><td>38       </td><td>Female   </td><td>No       </td><td>2        </td><td>0        </td></tr>\n",
       "\t<tr><td>Masters  </td><td>2016     </td><td>Bangalore</td><td>3        </td><td>27       </td><td>Male     </td><td>No       </td><td>5        </td><td>1        </td></tr>\n",
       "\t<tr><td>Masters  </td><td>2017     </td><td>Pune     </td><td>3        </td><td>24       </td><td>Male     </td><td>Yes      </td><td>2        </td><td>1        </td></tr>\n",
       "\t<tr><td>Bachelors</td><td>2016     </td><td>Bangalore</td><td>3        </td><td>22       </td><td>Male     </td><td>No       </td><td>0        </td><td>0        </td></tr>\n",
       "\t<tr><td>Bachelors</td><td>2015     </td><td>New Delhi</td><td>3        </td><td>38       </td><td>Male     </td><td>No       </td><td>0        </td><td>0        </td></tr>\n",
       "\t<tr><td>Bachelors</td><td>2016     </td><td>Bangalore</td><td>3        </td><td>34       </td><td>Female   </td><td>No       </td><td>2        </td><td>1        </td></tr>\n",
       "\t<tr><td>Bachelors</td><td>2016     </td><td>Pune     </td><td>3        </td><td>23       </td><td>Male     </td><td>No       </td><td>1        </td><td>0        </td></tr>\n",
       "\t<tr><td>Masters  </td><td>2017     </td><td>New Delhi</td><td>2        </td><td>37       </td><td>Male     </td><td>No       </td><td>2        </td><td>0        </td></tr>\n",
       "</tbody>\n",
       "</table>\n"
      ],
      "text/latex": [
       "\\begin{tabular}{r|lllllllll}\n",
       " Education & JoiningYear & City & PaymentTier & Age & Gender & EverBenched & ExperienceInCurrentDomain & LeaveOrNot\\\\\n",
       "\\hline\n",
       "\t Bachelors & 2017      & Bangalore & 3         & 34        & Male      & No        & 0         & 0        \\\\\n",
       "\t Bachelors & 2013      & Pune      & 1         & 28        & Female    & No        & 3         & 1        \\\\\n",
       "\t Bachelors & 2014      & New Delhi & 3         & 38        & Female    & No        & 2         & 0        \\\\\n",
       "\t Masters   & 2016      & Bangalore & 3         & 27        & Male      & No        & 5         & 1        \\\\\n",
       "\t Masters   & 2017      & Pune      & 3         & 24        & Male      & Yes       & 2         & 1        \\\\\n",
       "\t Bachelors & 2016      & Bangalore & 3         & 22        & Male      & No        & 0         & 0        \\\\\n",
       "\t Bachelors & 2015      & New Delhi & 3         & 38        & Male      & No        & 0         & 0        \\\\\n",
       "\t Bachelors & 2016      & Bangalore & 3         & 34        & Female    & No        & 2         & 1        \\\\\n",
       "\t Bachelors & 2016      & Pune      & 3         & 23        & Male      & No        & 1         & 0        \\\\\n",
       "\t Masters   & 2017      & New Delhi & 2         & 37        & Male      & No        & 2         & 0        \\\\\n",
       "\\end{tabular}\n"
      ],
      "text/markdown": [
       "\n",
       "| Education | JoiningYear | City | PaymentTier | Age | Gender | EverBenched | ExperienceInCurrentDomain | LeaveOrNot |\n",
       "|---|---|---|---|---|---|---|---|---|\n",
       "| Bachelors | 2017      | Bangalore | 3         | 34        | Male      | No        | 0         | 0         |\n",
       "| Bachelors | 2013      | Pune      | 1         | 28        | Female    | No        | 3         | 1         |\n",
       "| Bachelors | 2014      | New Delhi | 3         | 38        | Female    | No        | 2         | 0         |\n",
       "| Masters   | 2016      | Bangalore | 3         | 27        | Male      | No        | 5         | 1         |\n",
       "| Masters   | 2017      | Pune      | 3         | 24        | Male      | Yes       | 2         | 1         |\n",
       "| Bachelors | 2016      | Bangalore | 3         | 22        | Male      | No        | 0         | 0         |\n",
       "| Bachelors | 2015      | New Delhi | 3         | 38        | Male      | No        | 0         | 0         |\n",
       "| Bachelors | 2016      | Bangalore | 3         | 34        | Female    | No        | 2         | 1         |\n",
       "| Bachelors | 2016      | Pune      | 3         | 23        | Male      | No        | 1         | 0         |\n",
       "| Masters   | 2017      | New Delhi | 2         | 37        | Male      | No        | 2         | 0         |\n",
       "\n"
      ],
      "text/plain": [
       "   Education JoiningYear City      PaymentTier Age Gender EverBenched\n",
       "1  Bachelors 2017        Bangalore 3           34  Male   No         \n",
       "2  Bachelors 2013        Pune      1           28  Female No         \n",
       "3  Bachelors 2014        New Delhi 3           38  Female No         \n",
       "4  Masters   2016        Bangalore 3           27  Male   No         \n",
       "5  Masters   2017        Pune      3           24  Male   Yes        \n",
       "6  Bachelors 2016        Bangalore 3           22  Male   No         \n",
       "7  Bachelors 2015        New Delhi 3           38  Male   No         \n",
       "8  Bachelors 2016        Bangalore 3           34  Female No         \n",
       "9  Bachelors 2016        Pune      3           23  Male   No         \n",
       "10 Masters   2017        New Delhi 2           37  Male   No         \n",
       "   ExperienceInCurrentDomain LeaveOrNot\n",
       "1  0                         0         \n",
       "2  3                         1         \n",
       "3  2                         0         \n",
       "4  5                         1         \n",
       "5  2                         1         \n",
       "6  0                         0         \n",
       "7  0                         0         \n",
       "8  2                         1         \n",
       "9  1                         0         \n",
       "10 2                         0         "
      ]
     },
     "metadata": {},
     "output_type": "display_data"
    }
   ],
   "source": [
    "slice(data,n=1:10)"
   ]
  },
  {
   "cell_type": "code",
   "execution_count": 68,
   "id": "44ccd563-6de9-4c74-a86f-b7ae08248e0c",
   "metadata": {},
   "outputs": [
    {
     "data": {
      "text/html": [
       "<table>\n",
       "<thead><tr><th scope=col>Education</th><th scope=col>JoiningYear</th><th scope=col>City</th><th scope=col>PaymentTier</th><th scope=col>Age</th><th scope=col>Gender</th><th scope=col>EverBenched</th><th scope=col>ExperienceInCurrentDomain</th><th scope=col>LeaveOrNot</th></tr></thead>\n",
       "<tbody>\n",
       "\t<tr><td>Bachelors</td><td>2012     </td><td>Bangalore</td><td>3        </td><td>36       </td><td>Female   </td><td>No       </td><td>4        </td><td>0        </td></tr>\n",
       "\t<tr><td>Bachelors</td><td>2013     </td><td>Bangalore</td><td>3        </td><td>31       </td><td>Female   </td><td>No       </td><td>5        </td><td>0        </td></tr>\n",
       "\t<tr><td>Bachelors</td><td>2015     </td><td>Pune     </td><td>3        </td><td>32       </td><td>Female   </td><td>Yes      </td><td>1        </td><td>1        </td></tr>\n",
       "\t<tr><td>Masters  </td><td>2017     </td><td>Pune     </td><td>2        </td><td>31       </td><td>Female   </td><td>No       </td><td>2        </td><td>0        </td></tr>\n",
       "\t<tr><td>Bachelors</td><td>2013     </td><td>Bangalore</td><td>3        </td><td>25       </td><td>Female   </td><td>No       </td><td>3        </td><td>0        </td></tr>\n",
       "\t<tr><td>Bachelors</td><td>2016     </td><td>Pune     </td><td>3        </td><td>30       </td><td>Male     </td><td>No       </td><td>2        </td><td>0        </td></tr>\n",
       "\t<tr><td>Bachelors</td><td>2013     </td><td>Bangalore</td><td>3        </td><td>26       </td><td>Female   </td><td>No       </td><td>4        </td><td>0        </td></tr>\n",
       "\t<tr><td>Masters  </td><td>2013     </td><td>Pune     </td><td>2        </td><td>37       </td><td>Male     </td><td>No       </td><td>2        </td><td>1        </td></tr>\n",
       "\t<tr><td>Masters  </td><td>2018     </td><td>New Delhi</td><td>3        </td><td>27       </td><td>Male     </td><td>No       </td><td>5        </td><td>1        </td></tr>\n",
       "\t<tr><td>Bachelors</td><td>2012     </td><td>Bangalore</td><td>3        </td><td>30       </td><td>Male     </td><td>Yes      </td><td>2        </td><td>0        </td></tr>\n",
       "</tbody>\n",
       "</table>\n"
      ],
      "text/latex": [
       "\\begin{tabular}{r|lllllllll}\n",
       " Education & JoiningYear & City & PaymentTier & Age & Gender & EverBenched & ExperienceInCurrentDomain & LeaveOrNot\\\\\n",
       "\\hline\n",
       "\t Bachelors & 2012      & Bangalore & 3         & 36        & Female    & No        & 4         & 0        \\\\\n",
       "\t Bachelors & 2013      & Bangalore & 3         & 31        & Female    & No        & 5         & 0        \\\\\n",
       "\t Bachelors & 2015      & Pune      & 3         & 32        & Female    & Yes       & 1         & 1        \\\\\n",
       "\t Masters   & 2017      & Pune      & 2         & 31        & Female    & No        & 2         & 0        \\\\\n",
       "\t Bachelors & 2013      & Bangalore & 3         & 25        & Female    & No        & 3         & 0        \\\\\n",
       "\t Bachelors & 2016      & Pune      & 3         & 30        & Male      & No        & 2         & 0        \\\\\n",
       "\t Bachelors & 2013      & Bangalore & 3         & 26        & Female    & No        & 4         & 0        \\\\\n",
       "\t Masters   & 2013      & Pune      & 2         & 37        & Male      & No        & 2         & 1        \\\\\n",
       "\t Masters   & 2018      & New Delhi & 3         & 27        & Male      & No        & 5         & 1        \\\\\n",
       "\t Bachelors & 2012      & Bangalore & 3         & 30        & Male      & Yes       & 2         & 0        \\\\\n",
       "\\end{tabular}\n"
      ],
      "text/markdown": [
       "\n",
       "| Education | JoiningYear | City | PaymentTier | Age | Gender | EverBenched | ExperienceInCurrentDomain | LeaveOrNot |\n",
       "|---|---|---|---|---|---|---|---|---|\n",
       "| Bachelors | 2012      | Bangalore | 3         | 36        | Female    | No        | 4         | 0         |\n",
       "| Bachelors | 2013      | Bangalore | 3         | 31        | Female    | No        | 5         | 0         |\n",
       "| Bachelors | 2015      | Pune      | 3         | 32        | Female    | Yes       | 1         | 1         |\n",
       "| Masters   | 2017      | Pune      | 2         | 31        | Female    | No        | 2         | 0         |\n",
       "| Bachelors | 2013      | Bangalore | 3         | 25        | Female    | No        | 3         | 0         |\n",
       "| Bachelors | 2016      | Pune      | 3         | 30        | Male      | No        | 2         | 0         |\n",
       "| Bachelors | 2013      | Bangalore | 3         | 26        | Female    | No        | 4         | 0         |\n",
       "| Masters   | 2013      | Pune      | 2         | 37        | Male      | No        | 2         | 1         |\n",
       "| Masters   | 2018      | New Delhi | 3         | 27        | Male      | No        | 5         | 1         |\n",
       "| Bachelors | 2012      | Bangalore | 3         | 30        | Male      | Yes       | 2         | 0         |\n",
       "\n"
      ],
      "text/plain": [
       "   Education JoiningYear City      PaymentTier Age Gender EverBenched\n",
       "1  Bachelors 2012        Bangalore 3           36  Female No         \n",
       "2  Bachelors 2013        Bangalore 3           31  Female No         \n",
       "3  Bachelors 2015        Pune      3           32  Female Yes        \n",
       "4  Masters   2017        Pune      2           31  Female No         \n",
       "5  Bachelors 2013        Bangalore 3           25  Female No         \n",
       "6  Bachelors 2016        Pune      3           30  Male   No         \n",
       "7  Bachelors 2013        Bangalore 3           26  Female No         \n",
       "8  Masters   2013        Pune      2           37  Male   No         \n",
       "9  Masters   2018        New Delhi 3           27  Male   No         \n",
       "10 Bachelors 2012        Bangalore 3           30  Male   Yes        \n",
       "   ExperienceInCurrentDomain LeaveOrNot\n",
       "1  4                         0         \n",
       "2  5                         0         \n",
       "3  1                         1         \n",
       "4  2                         0         \n",
       "5  3                         0         \n",
       "6  2                         0         \n",
       "7  4                         0         \n",
       "8  2                         1         \n",
       "9  5                         1         \n",
       "10 2                         0         "
      ]
     },
     "metadata": {},
     "output_type": "display_data"
    }
   ],
   "source": [
    "slice(data,n=4643:4652)"
   ]
  },
  {
   "cell_type": "markdown",
   "id": "039f7035-b4d7-4841-8990-f9e8af4c486e",
   "metadata": {},
   "source": [
    "### Number of rows and columns present"
   ]
  },
  {
   "cell_type": "code",
   "execution_count": 62,
   "id": "f39ee70c-15c6-417c-a05c-320621f8eeba",
   "metadata": {},
   "outputs": [
    {
     "data": {
      "text/html": [
       "<ol class=list-inline>\n",
       "\t<li>4653</li>\n",
       "\t<li>9</li>\n",
       "</ol>\n"
      ],
      "text/latex": [
       "\\begin{enumerate*}\n",
       "\\item 4653\n",
       "\\item 9\n",
       "\\end{enumerate*}\n"
      ],
      "text/markdown": [
       "1. 4653\n",
       "2. 9\n",
       "\n",
       "\n"
      ],
      "text/plain": [
       "[1] 4653    9"
      ]
     },
     "metadata": {},
     "output_type": "display_data"
    }
   ],
   "source": [
    "dim(data)"
   ]
  },
  {
   "cell_type": "markdown",
   "id": "094fd0ea-a90d-4bf0-be5d-b0bb814e752e",
   "metadata": {},
   "source": [
    "### Structure of the data"
   ]
  },
  {
   "cell_type": "code",
   "execution_count": 72,
   "id": "77afd9ca-b0d8-4fa4-a1b3-f9c0931ceb2a",
   "metadata": {},
   "outputs": [
    {
     "name": "stdout",
     "output_type": "stream",
     "text": [
      "Classes 'tbl_df', 'tbl' and 'data.frame':\t4653 obs. of  9 variables:\n",
      " $ Education                : chr  \"Bachelors\" \"Bachelors\" \"Bachelors\" \"Masters\" ...\n",
      " $ JoiningYear              : num  2017 2013 2014 2016 2017 ...\n",
      " $ City                     : chr  \"Bangalore\" \"Pune\" \"New Delhi\" \"Bangalore\" ...\n",
      " $ PaymentTier              : num  3 1 3 3 3 3 3 3 3 2 ...\n",
      " $ Age                      : num  34 28 38 27 24 22 38 34 23 37 ...\n",
      " $ Gender                   : chr  \"Male\" \"Female\" \"Female\" \"Male\" ...\n",
      " $ EverBenched              : chr  \"No\" \"No\" \"No\" \"No\" ...\n",
      " $ ExperienceInCurrentDomain: num  0 3 2 5 2 0 0 2 1 2 ...\n",
      " $ LeaveOrNot               : num  0 1 0 1 1 0 0 1 0 0 ...\n",
      " - attr(*, \"spec\")=\n",
      "  .. cols(\n",
      "  ..   Education = col_character(),\n",
      "  ..   JoiningYear = col_double(),\n",
      "  ..   City = col_character(),\n",
      "  ..   PaymentTier = col_double(),\n",
      "  ..   Age = col_double(),\n",
      "  ..   Gender = col_character(),\n",
      "  ..   EverBenched = col_character(),\n",
      "  ..   ExperienceInCurrentDomain = col_double(),\n",
      "  ..   LeaveOrNot = col_double()\n",
      "  .. )\n",
      "NULL\n"
     ]
    }
   ],
   "source": [
    "print(str(data))"
   ]
  },
  {
   "cell_type": "markdown",
   "id": "ddfd5f14-4cea-4f36-b8ca-a2e91dbfedba",
   "metadata": {},
   "source": [
    "### Summary of the data"
   ]
  },
  {
   "cell_type": "code",
   "execution_count": 75,
   "id": "a5a868c4-a99c-481c-aa67-d193c81397c8",
   "metadata": {},
   "outputs": [
    {
     "name": "stdout",
     "output_type": "stream",
     "text": [
      "  Education          JoiningYear       City            PaymentTier   \n",
      " Length:4653        Min.   :2012   Length:4653        Min.   :1.000  \n",
      " Class :character   1st Qu.:2013   Class :character   1st Qu.:3.000  \n",
      " Mode  :character   Median :2015   Mode  :character   Median :3.000  \n",
      "                    Mean   :2015                      Mean   :2.698  \n",
      "                    3rd Qu.:2017                      3rd Qu.:3.000  \n",
      "                    Max.   :2018                      Max.   :3.000  \n",
      "      Age           Gender          EverBenched       \n",
      " Min.   :22.00   Length:4653        Length:4653       \n",
      " 1st Qu.:26.00   Class :character   Class :character  \n",
      " Median :28.00   Mode  :character   Mode  :character  \n",
      " Mean   :29.39                                        \n",
      " 3rd Qu.:32.00                                        \n",
      " Max.   :41.00                                        \n",
      " ExperienceInCurrentDomain   LeaveOrNot    \n",
      " Min.   :0.000             Min.   :0.0000  \n",
      " 1st Qu.:2.000             1st Qu.:0.0000  \n",
      " Median :3.000             Median :0.0000  \n",
      " Mean   :2.906             Mean   :0.3439  \n",
      " 3rd Qu.:4.000             3rd Qu.:1.0000  \n",
      " Max.   :7.000             Max.   :1.0000  \n"
     ]
    }
   ],
   "source": [
    "print(summary(data))"
   ]
  },
  {
   "cell_type": "markdown",
   "id": "4735fa38-eaff-43ac-af3b-cf697981aaea",
   "metadata": {},
   "source": [
    "#### Inspecting the column names"
   ]
  },
  {
   "cell_type": "code",
   "execution_count": 78,
   "id": "4355bcfe-71eb-4e81-8292-206c3dac41c4",
   "metadata": {},
   "outputs": [
    {
     "data": {
      "text/html": [
       "<ol class=list-inline>\n",
       "\t<li>'Education'</li>\n",
       "\t<li>'JoiningYear'</li>\n",
       "\t<li>'City'</li>\n",
       "\t<li>'PaymentTier'</li>\n",
       "\t<li>'Age'</li>\n",
       "\t<li>'Gender'</li>\n",
       "\t<li>'EverBenched'</li>\n",
       "\t<li>'ExperienceInCurrentDomain'</li>\n",
       "\t<li>'LeaveOrNot'</li>\n",
       "</ol>\n"
      ],
      "text/latex": [
       "\\begin{enumerate*}\n",
       "\\item 'Education'\n",
       "\\item 'JoiningYear'\n",
       "\\item 'City'\n",
       "\\item 'PaymentTier'\n",
       "\\item 'Age'\n",
       "\\item 'Gender'\n",
       "\\item 'EverBenched'\n",
       "\\item 'ExperienceInCurrentDomain'\n",
       "\\item 'LeaveOrNot'\n",
       "\\end{enumerate*}\n"
      ],
      "text/markdown": [
       "1. 'Education'\n",
       "2. 'JoiningYear'\n",
       "3. 'City'\n",
       "4. 'PaymentTier'\n",
       "5. 'Age'\n",
       "6. 'Gender'\n",
       "7. 'EverBenched'\n",
       "8. 'ExperienceInCurrentDomain'\n",
       "9. 'LeaveOrNot'\n",
       "\n",
       "\n"
      ],
      "text/plain": [
       "[1] \"Education\"                 \"JoiningYear\"              \n",
       "[3] \"City\"                      \"PaymentTier\"              \n",
       "[5] \"Age\"                       \"Gender\"                   \n",
       "[7] \"EverBenched\"               \"ExperienceInCurrentDomain\"\n",
       "[9] \"LeaveOrNot\"               "
      ]
     },
     "metadata": {},
     "output_type": "display_data"
    }
   ],
   "source": [
    "colnames(data)"
   ]
  },
  {
   "cell_type": "markdown",
   "id": "86f0d23b-23fd-4942-93b6-37c803ee1ef6",
   "metadata": {},
   "source": [
    "### Checking for missing values"
   ]
  },
  {
   "cell_type": "code",
   "execution_count": 81,
   "id": "d34baab7-0633-4381-bfc4-0d0f9a41a399",
   "metadata": {},
   "outputs": [
    {
     "data": {
      "text/html": [
       "<dl class=dl-horizontal>\n",
       "\t<dt>Education</dt>\n",
       "\t\t<dd>0</dd>\n",
       "\t<dt>JoiningYear</dt>\n",
       "\t\t<dd>0</dd>\n",
       "\t<dt>City</dt>\n",
       "\t\t<dd>0</dd>\n",
       "\t<dt>PaymentTier</dt>\n",
       "\t\t<dd>0</dd>\n",
       "\t<dt>Age</dt>\n",
       "\t\t<dd>0</dd>\n",
       "\t<dt>Gender</dt>\n",
       "\t\t<dd>0</dd>\n",
       "\t<dt>EverBenched</dt>\n",
       "\t\t<dd>0</dd>\n",
       "\t<dt>ExperienceInCurrentDomain</dt>\n",
       "\t\t<dd>0</dd>\n",
       "\t<dt>LeaveOrNot</dt>\n",
       "\t\t<dd>0</dd>\n",
       "</dl>\n"
      ],
      "text/latex": [
       "\\begin{description*}\n",
       "\\item[Education] 0\n",
       "\\item[JoiningYear] 0\n",
       "\\item[City] 0\n",
       "\\item[PaymentTier] 0\n",
       "\\item[Age] 0\n",
       "\\item[Gender] 0\n",
       "\\item[EverBenched] 0\n",
       "\\item[ExperienceInCurrentDomain] 0\n",
       "\\item[LeaveOrNot] 0\n",
       "\\end{description*}\n"
      ],
      "text/markdown": [
       "Education\n",
       ":   0JoiningYear\n",
       ":   0City\n",
       ":   0PaymentTier\n",
       ":   0Age\n",
       ":   0Gender\n",
       ":   0EverBenched\n",
       ":   0ExperienceInCurrentDomain\n",
       ":   0LeaveOrNot\n",
       ":   0\n",
       "\n"
      ],
      "text/plain": [
       "                Education               JoiningYear                      City \n",
       "                        0                         0                         0 \n",
       "              PaymentTier                       Age                    Gender \n",
       "                        0                         0                         0 \n",
       "              EverBenched ExperienceInCurrentDomain                LeaveOrNot \n",
       "                        0                         0                         0 "
      ]
     },
     "metadata": {},
     "output_type": "display_data"
    }
   ],
   "source": [
    "colSums(is.na(data)*100/dim(data)[1])"
   ]
  },
  {
   "cell_type": "markdown",
   "id": "cfd66a32-89d5-4025-8a37-8ac29b101d6b",
   "metadata": {},
   "source": [
    "## Dropping Irrelevant information"
   ]
  },
  {
   "cell_type": "code",
   "execution_count": 110,
   "id": "3b1ccd2b-874e-4c3e-b7b3-47672836eaf8",
   "metadata": {},
   "outputs": [],
   "source": [
    "data <- data %>% select(-LeaveOrNot)"
   ]
  },
  {
   "cell_type": "markdown",
   "id": "d63cfedc-b582-4268-b643-3c2fb91f66b3",
   "metadata": {},
   "source": [
    "## Changing data type for certain columns"
   ]
  },
  {
   "cell_type": "code",
   "execution_count": 261,
   "id": "ef3b3e03-caef-4d4c-a3e0-3bbb33beb227",
   "metadata": {},
   "outputs": [],
   "source": [
    "data$JoiningYear <- factor(data$JoiningYear)\n",
    "data$ExperienceInCurrentDomain <- factor(data$ExperienceInCurrentDomain)\n",
    "data$PaymentTier <- factor(data$PaymentTier)\n",
    "data$PaymentTier <- factor(data$PaymentTier)"
   ]
  },
  {
   "cell_type": "markdown",
   "id": "fc87e53b-7629-4802-a405-acac66e8c9f8",
   "metadata": {},
   "source": [
    "# Data Visualisation"
   ]
  },
  {
   "cell_type": "markdown",
   "id": "4f5fd33b-7938-49bc-a2a7-3614164ff515",
   "metadata": {},
   "source": [
    "## Age Distribution"
   ]
  },
  {
   "cell_type": "code",
   "execution_count": 126,
   "id": "b813e882-71d7-434b-af9a-269ae6bc40b2",
   "metadata": {},
   "outputs": [
    {
     "data": {
      "image/png": "[encoded data removed]",
      "text/plain": [
       "plot without title"
      ]
     },
     "metadata": {},
     "output_type": "display_data"
    }
   ],
   "source": [
    "ggplot(data = data,mapping = aes(x = Age))+ geom_histogram(bins=10,fill=\"red\") +labs(title = \"Distribution of Age\")"
   ]
  },
  {
   "cell_type": "markdown",
   "id": "47559db4-7857-4f76-9ee4-10ccf90978f2",
   "metadata": {},
   "source": [
    "The histogram shows that employees in the age group 27-29 are the most common."
   ]
  },
  {
   "cell_type": "code",
   "execution_count": 129,
   "id": "f76281a7-035b-4983-8da5-978e11700aa2",
   "metadata": {},
   "outputs": [
    {
     "data": {
      "image/png": "[encoded data removed]",
      "text/plain": [
       "plot without title"
      ]
     },
     "metadata": {},
     "output_type": "display_data"
    }
   ],
   "source": [
    "ggplot(data = data, mapping = aes(x = Age))+ geom_density(fill = \"blue\")+labs(title = \"Density plot of Age\")"
   ]
  },
  {
   "cell_type": "markdown",
   "id": "fa342c3b-e3be-44b1-b379-ee1e714d4cd6",
   "metadata": {},
   "source": [
    "The densityvplot shows that employees in the age group 27-29 are the most common."
   ]
  },
  {
   "cell_type": "markdown",
   "id": "2ac8fca9-ef66-48e0-853d-47d41fb2c910",
   "metadata": {},
   "source": [
    "## City of Origin"
   ]
  },
  {
   "cell_type": "code",
   "execution_count": 133,
   "id": "4445f041-1be7-484d-ada7-598cc886b033",
   "metadata": {},
   "outputs": [
    {
     "data": {
      "image/png": "[encoded data removed]",
      "text/plain": [
       "plot without title"
      ]
     },
     "metadata": {},
     "output_type": "display_data"
    }
   ],
   "source": [
    "ggplot(data = data, mapping = aes(x = City,fill=City)) + geom_bar()+labs(title = \"Count plot for City\")"
   ]
  },
  {
   "cell_type": "markdown",
   "id": "5e50d3d9-bda7-4155-98e5-251d7c424a1d",
   "metadata": {},
   "source": [
    "The count plot suggests that most of the employees are from Bangalore."
   ]
  },
  {
   "cell_type": "markdown",
   "id": "9f908e4d-ea7f-4b88-a19a-d0b9ceab8e8c",
   "metadata": {},
   "source": [
    "## Educational Qualification"
   ]
  },
  {
   "cell_type": "code",
   "execution_count": 137,
   "id": "71cbc0c4-14fb-41b0-8d6d-60a3a6cf4ee8",
   "metadata": {},
   "outputs": [
    {
     "data": {
      "image/png": "[encoded data removed]",
      "text/plain": [
       "plot without title"
      ]
     },
     "metadata": {},
     "output_type": "display_data"
    }
   ],
   "source": [
    "ggplot(data = data, mapping = aes(x = Education,fill=Education)) + geom_bar()+labs(title = \"Count plot Educational Qualification\")"
   ]
  },
  {
   "cell_type": "markdown",
   "id": "79a2917e-f6db-4a9c-9868-63bfeb9f881f",
   "metadata": {},
   "source": [
    "The above graph indicates that most of the employees have a Bachelors degree and very few have taken a PHD."
   ]
  },
  {
   "cell_type": "markdown",
   "id": "15ed44a9-d444-4e18-ad48-1f96d5d6ad56",
   "metadata": {},
   "source": [
    "## Gender Distribution"
   ]
  },
  {
   "cell_type": "code",
   "execution_count": 141,
   "id": "85362390-a5fd-4c63-b62b-f299511fd27c",
   "metadata": {},
   "outputs": [
    {
     "data": {
      "image/png": "[encoded data removed]",
      "text/plain": [
       "plot without title"
      ]
     },
     "metadata": {},
     "output_type": "display_data"
    }
   ],
   "source": [
    "ggplot(data = data, mapping = aes(x = Gender,fill=Gender)) + geom_bar()+labs(title = \"Count plot Gender Distribution\")"
   ]
  },
  {
   "cell_type": "markdown",
   "id": "01868808-5051-4e2c-bf47-66f3c700f4f4",
   "metadata": {},
   "source": [
    "The figure shows that most of employees working for the company are males."
   ]
  },
  {
   "cell_type": "markdown",
   "id": "0f2286ea-7257-4736-bcc8-f688d7943404",
   "metadata": {},
   "source": [
    "## Year of Joining "
   ]
  },
  {
   "cell_type": "code",
   "execution_count": 248,
   "id": "7b6f4acc-3b37-4a12-80a2-208ff7af17f8",
   "metadata": {},
   "outputs": [
    {
     "data": {
      "image/png": "[encoded data removed]",
      "text/plain": [
       "plot without title"
      ]
     },
     "metadata": {},
     "output_type": "display_data"
    }
   ],
   "source": [
    "ggplot(data = data, mapping = aes(x = JoiningYear,fill=JoiningYear)) + geom_bar()+labs(title = \"Count plot showing Year of Joining\")"
   ]
  },
  {
   "cell_type": "markdown",
   "id": "6f4b033a-6cdc-4321-9469-08f569dea391",
   "metadata": {},
   "source": [
    "The graph points out that most of the employees joined the company in the year 2017."
   ]
  },
  {
   "cell_type": "markdown",
   "id": "965169a8-716c-41f2-bf58-9151340b8df3",
   "metadata": {},
   "source": [
    "## Payment tier Classification"
   ]
  },
  {
   "cell_type": "code",
   "execution_count": 263,
   "id": "4c321b39-bc3a-4c53-baf5-c21e0d67163c",
   "metadata": {},
   "outputs": [
    {
     "data": {
      "image/png": "[encoded data removed]",
      "text/plain": [
       "plot without title"
      ]
     },
     "metadata": {},
     "output_type": "display_data"
    }
   ],
   "source": [
    "ggplot(data = data, mapping = aes(x = PaymentTier,fill=PaymentTier)) + geom_bar()+labs(title = \"Count plot showing Payment tier Classification\")"
   ]
  },
  {
   "cell_type": "markdown",
   "id": "33ec9abf-d2a2-43cb-9286-cfc308d439e9",
   "metadata": {},
   "source": [
    "The graph shows that most of the employees are tier 3 employees"
   ]
  },
  {
   "cell_type": "markdown",
   "id": "7ec1fa46-a8f6-418f-b658-8dfcf7d8cb94",
   "metadata": {},
   "source": [
    "## Experience Classification"
   ]
  },
  {
   "cell_type": "code",
   "execution_count": 250,
   "id": "cd5ff4ad-bbe6-4a2a-8505-b008bc4311b3",
   "metadata": {},
   "outputs": [
    {
     "data": {
      "image/png": "[encoded data removed]",
      "text/plain": [
       "plot without title"
      ]
     },
     "metadata": {},
     "output_type": "display_data"
    }
   ],
   "source": [
    "ggplot(data = data, mapping = aes(x = ExperienceInCurrentDomain,fill=ExperienceInCurrentDomain)) + geom_bar()+labs(title = \"Count plot showing Experience Classification\")"
   ]
  },
  {
   "cell_type": "markdown",
   "id": "8c04a4da-7a47-4e50-bcbb-1107b81db36d",
   "metadata": {},
   "source": [
    "The figure conveys that most employees have 2 years of experience."
   ]
  },
  {
   "cell_type": "markdown",
   "id": "f396c33a-6e84-4bd4-8c7c-ec29aa8cee5a",
   "metadata": {},
   "source": [
    "## Age Distribution "
   ]
  },
  {
   "cell_type": "code",
   "execution_count": 173,
   "id": "e444a7cb-2320-420e-91c6-fb08f04ef828",
   "metadata": {},
   "outputs": [
    {
     "data": {
      "image/png": "[encoded data removed]",
      "text/plain": [
       "plot without title"
      ]
     },
     "metadata": {},
     "output_type": "display_data"
    }
   ],
   "source": [
    "ggplot(data = data, mapping = aes(y = Age)) + geom_boxplot(fill=\"purple\")+labs(title = \"Box plot showing age distribution\")"
   ]
  },
  {
   "cell_type": "markdown",
   "id": "e5332db6-504c-45d5-a0aa-9ff52cca568e",
   "metadata": {},
   "source": [
    "The plot shows that average age of the employees in the company lies between 27.5 years and 35 years. There are no visible outliers in the following distribution."
   ]
  },
  {
   "cell_type": "markdown",
   "id": "ec0bcd9a-f1d0-4339-b5f0-610a37df5f27",
   "metadata": {},
   "source": [
    "## Comparison of Gender and City"
   ]
  },
  {
   "cell_type": "code",
   "execution_count": 211,
   "id": "f5ad2cab-a82a-476c-9191-81128dd78075",
   "metadata": {},
   "outputs": [
    {
     "data": {
      "image/png": "[encoded data removed]",
      "text/plain": [
       "plot without title"
      ]
     },
     "metadata": {},
     "output_type": "display_data"
    }
   ],
   "source": [
    "ggplot(data = data) + geom_bar(mapping = aes(x = Gender,fill=City),position = 'dodge')+labs(title = \"Count plot showing Comparison of Gender and City\")"
   ]
  },
  {
   "cell_type": "markdown",
   "id": "a1bf396c-938f-4fb2-b4fe-aa3be8ce8b7c",
   "metadata": {},
   "source": [
    "The comparison gives us a clear picture that most of the male employees are from Bangalore folloewd by Pune and new Delhi and most of the female employees are from Bangalore followed by New Delhi and Pune."
   ]
  },
  {
   "cell_type": "markdown",
   "id": "21d85935-b734-4743-8c32-5f250177dadc",
   "metadata": {},
   "source": [
    "## Comparison of Gender and Education"
   ]
  },
  {
   "cell_type": "code",
   "execution_count": 214,
   "id": "fc12afac-daa2-45c5-ba99-4dc615ba9802",
   "metadata": {},
   "outputs": [
    {
     "data": {
      "image/png": "[encoded data removed]",
      "text/plain": [
       "plot without title"
      ]
     },
     "metadata": {},
     "output_type": "display_data"
    }
   ],
   "source": [
    "ggplot(data = data) + geom_bar(mapping = aes(x = Gender,fill=Education),position = 'dodge')+labs(title = \"Count plot showing Comparison of Gender and Education\")"
   ]
  },
  {
   "cell_type": "markdown",
   "id": "cad0e8bb-3f9d-4217-89f6-de0eba549a5e",
   "metadata": {},
   "source": [
    "The following comparison shows that Most of the Male and Female employees have a Bachelors Degree followed by Masters and PHD."
   ]
  },
  {
   "cell_type": "markdown",
   "id": "de2b0e58-6e26-4d6a-b340-4b32c0e7c7c6",
   "metadata": {},
   "source": [
    "## Comparison of Gender and Joining Year"
   ]
  },
  {
   "cell_type": "code",
   "execution_count": 238,
   "id": "e4382e88-f224-43a3-9839-f9bf369b4e71",
   "metadata": {},
   "outputs": [
    {
     "data": {
      "image/png": "[encoded data removed]",
      "text/plain": [
       "plot without title"
      ]
     },
     "metadata": {},
     "output_type": "display_data"
    }
   ],
   "source": [
    "ggplot(data = data) + geom_bar(mapping = aes(x = Gender,fill=JoiningYear),position = 'dodge')+labs(title = \"Count plot showing Comparison of Gender and Joining Year\")"
   ]
  },
  {
   "cell_type": "markdown",
   "id": "a9b0d746-3b27-48e1-8575-8f5029c542f9",
   "metadata": {},
   "source": [
    "The following comparison indicates that most of the male and female employees of the company has joined in the year 2017."
   ]
  },
  {
   "cell_type": "markdown",
   "id": "246acc39-cb38-4610-86fc-79863e26ba90",
   "metadata": {},
   "source": [
    "## Comparison of Gender and payment tier"
   ]
  },
  {
   "cell_type": "code",
   "execution_count": 265,
   "id": "c4db09b4-e3d4-41f7-90cd-16df1bcf70b0",
   "metadata": {},
   "outputs": [
    {
     "data": {
      "image/png": "[encoded data removed]",
      "text/plain": [
       "plot without title"
      ]
     },
     "metadata": {},
     "output_type": "display_data"
    }
   ],
   "source": [
    "ggplot(data = data) + geom_bar(mapping = aes(x = Gender,fill=PaymentTier),position = 'dodge')+labs(title = \"Count plot showing Comparison of Gender and payment tier\")"
   ]
  },
  {
   "cell_type": "markdown",
   "id": "f9178f9d-c72f-4a26-8758-9a234559a793",
   "metadata": {},
   "source": [
    "From this comparison we can infer that most of the male and female employees are tier 3 employees."
   ]
  },
  {
   "cell_type": "markdown",
   "id": "dfcf549d-1bc4-461e-b016-f98de947557b",
   "metadata": {},
   "source": [
    "## Number of Employees have been benched or not benched"
   ]
  },
  {
   "cell_type": "code",
   "execution_count": 273,
   "id": "318f6aed-69e5-4461-ad40-30379b5cd2c2",
   "metadata": {},
   "outputs": [
    {
     "data": {
      "image/png": "[encoded data removed]",
      "text/plain": [
       "plot without title"
      ]
     },
     "metadata": {},
     "output_type": "display_data"
    }
   ],
   "source": [
    "ggplot(data = data) + geom_bar(mapping = aes(x = EverBenched,fill=EverBenched),position = 'dodge')+labs(title = \"Count plot showing how many employees have been benched\")"
   ]
  },
  {
   "cell_type": "markdown",
   "id": "26f89a37-9873-4ac7-844e-299b8b62041e",
   "metadata": {},
   "source": [
    "The count plot shows that most of the employees have not been benched."
   ]
  },
  {
   "cell_type": "markdown",
   "id": "3fcfb79a-7bf8-4ebb-936a-25598539030f",
   "metadata": {},
   "source": [
    "## Conclusion\n",
    "After the analysis of the given dataset we can arrive at the following conclusions: \n",
    "- Employees in the age group 27-29 are the most common.\n",
    "- Most of the employees are from Bangalore.\n",
    "- Most of the employees have a Bachelors degree and very few have taken a PHD.\n",
    "- Most of employees working for the company are males.\n",
    "- Most of the employees joined the company in the year 2017.\n",
    "- Tier 3 employees are the most common in the company.\n",
    "- Majority of the employees have 2 years of experience.\n",
    "- Average age of the employees in the company lies between 27.5 years and 35 years.\n",
    "- Most of the male employees are from Bangalore followed by Pune and new Delhi and most of the female employees are from New Delhi followed by Bangalore and Pune.\n",
    "-  Most of the Male and Female employees have a Bachelors Degree followed by Masters and PHD.\n",
    "-  Majority of the male and female employees of the company has joined in the year 2017.\n",
    "-  Majority of the male and female employees are tier 3 employees.\n",
    "-  Very few employees have been benched."
   ]
  },
  {
   "cell_type": "markdown",
   "id": "898b1b72-dea2-4ff2-9383-39b66707ecb2",
   "metadata": {},
   "source": [
    "# Thank You"
   ]
  },
  {
   "cell_type": "code",
   "execution_count": null,
   "id": "206a5c16-baaf-4610-8045-c340cbf73b95",
   "metadata": {},
   "outputs": [],
   "source": []
  }
 ],
 "metadata": {
  "kernelspec": {
   "display_name": "R",
   "language": "R",
   "name": "ir"
  },
  "language_info": {
   "codemirror_mode": "r",
   "file_extension": ".r",
   "mimetype": "text/x-r-source",
   "name": "R",
   "pygments_lexer": "r",
   "version": "3.6.1"
  }
 },
 "nbformat": 4,
 "nbformat_minor": 5
}
